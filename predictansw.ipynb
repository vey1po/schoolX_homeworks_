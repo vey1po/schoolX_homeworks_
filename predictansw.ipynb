{
 "cells": [
  {
   "cell_type": "code",
   "execution_count": 1,
   "id": "49c929ec",
   "metadata": {},
   "outputs": [
    {
     "name": "stdout",
     "output_type": "stream",
     "text": [
      "Загадай число от -1000 до 1000\n",
      "Твое число 0?\n",
      "Твое число 500?\n",
      "Твое число 750?\n",
      "Твое число 625?\n",
      "Дебил, напиши: =, + или -\n",
      "Твое число 625?\n",
      "Твое число 687?\n",
      "Да\n"
     ]
    }
   ],
   "source": [
    "print(\"Загадай число от -1000 до 1000\")\n",
    "min_num = -1000\n",
    "max_num = 1000\n",
    "\n",
    "while min_num <= max_num:\n",
    "    predict = (min_num + max_num) // 2\n",
    "    \n",
    "    print(f\"Твое число {predict}?\")\n",
    "    answ = input(\"Напиши '=', '+' если больше, '-' если меньше: \")\n",
    "    \n",
    "    if answ == \"=\":\n",
    "        print(\"Да\")\n",
    "        break\n",
    "    elif answ == \"+\":\n",
    "        min_num = predict + 1\n",
    "    elif answ == \"-\":\n",
    "        max_num = predict - 1\n",
    "    else:\n",
    "        print(\"Дебил, напиши: =, + или -\")\n",
    "\n"
   ]
  }
 ],
 "metadata": {
  "kernelspec": {
   "display_name": ".venv",
   "language": "python",
   "name": "python3"
  },
  "language_info": {
   "codemirror_mode": {
    "name": "ipython",
    "version": 3
   },
   "file_extension": ".py",
   "mimetype": "text/x-python",
   "name": "python",
   "nbconvert_exporter": "python",
   "pygments_lexer": "ipython3",
   "version": "3.13.3"
  }
 },
 "nbformat": 4,
 "nbformat_minor": 5
}
