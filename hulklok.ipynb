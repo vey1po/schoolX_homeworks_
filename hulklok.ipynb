{
 "cells": [
  {
   "cell_type": "code",
   "execution_count": 1,
   "id": "e61a4ab1",
   "metadata": {},
   "outputs": [
    {
     "name": "stdout",
     "output_type": "stream",
     "text": [
      "Хочешь сняться в кино? [Да/Нет]\n",
      "Халк или Локи? [Халк/Локи]\n",
      "Кого больше любишь - маму или папу?\n",
      "Папа за хлебом уйдёт\n"
     ]
    }
   ],
   "source": [
    "def main():\n",
    "    print(\"Хочешь сняться в кино? [Да/Нет]\")\n",
    "    pick = input().lower()\n",
    "\n",
    "    if pick == \"да\":\n",
    "        picka_hero()\n",
    "    elif pick == \"нет\":\n",
    "        print(\"Это был твой последний шанс\")\n",
    "    else:\n",
    "        print(\"Ты чо не русский, а?\")\n",
    "\n",
    "\n",
    "def picka_hero():\n",
    "    print(\"Халк или Локи? [Халк/Локи]\")\n",
    "    hero = input().lower()\n",
    "\n",
    "    if hero == \"халк\":\n",
    "        print(\"У тебя большая бицуха?\")\n",
    "        size = int(input())\n",
    "        if size < 60:\n",
    "            print(\"Ну ты и дрыщ конечно\")\n",
    "        else:\n",
    "            print(\"Капец ты мощный, погнали в армрестлинг\")\n",
    "    \n",
    "    elif hero == \"локи\":\n",
    "        print(\"Кого больше любишь - маму или папу?\")\n",
    "        roditel = input().lower()\n",
    "        if roditel == \"папу\":\n",
    "            print(\"МУЖИК\")\n",
    "        elif roditel == \"маму\":\n",
    "            print(\"Папа за хлебом уйдёт\")\n",
    "        else:\n",
    "            print(\"Ты чо не русский, а?\")\n",
    "    \n",
    "    else:\n",
    "        print(\"Дурак, теперь для тебя нет роли\")\n",
    "\n",
    "\n",
    "main()"
   ]
  }
 ],
 "metadata": {
  "kernelspec": {
   "display_name": ".venv",
   "language": "python",
   "name": "python3"
  },
  "language_info": {
   "codemirror_mode": {
    "name": "ipython",
    "version": 3
   },
   "file_extension": ".py",
   "mimetype": "text/x-python",
   "name": "python",
   "nbconvert_exporter": "python",
   "pygments_lexer": "ipython3",
   "version": "3.13.3"
  }
 },
 "nbformat": 4,
 "nbformat_minor": 5
}
