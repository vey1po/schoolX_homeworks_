{
 "cells": [
  {
   "cell_type": "code",
   "execution_count": 1,
   "id": "a0a1325f",
   "metadata": {},
   "outputs": [
    {
     "name": "stdout",
     "output_type": "stream",
     "text": [
      "176023680645013966468226945392411250770384383304492191886725992896575345044216019675\n"
     ]
    }
   ],
   "source": [
    "def fib(num, cache={}):\n",
    "    \n",
    "    if num in cache:\n",
    "        return cache[num]\n",
    "    if num <= 1:\n",
    "        result = num\n",
    "    else:\n",
    "        result = fib(num - 1, cache) + fib(num - 2, cache)\n",
    "    cache[num] = result\n",
    "    return result\n",
    "\n",
    "print(fib(400))"
   ]
  }
 ],
 "metadata": {
  "kernelspec": {
   "display_name": ".venv",
   "language": "python",
   "name": "python3"
  },
  "language_info": {
   "codemirror_mode": {
    "name": "ipython",
    "version": 3
   },
   "file_extension": ".py",
   "mimetype": "text/x-python",
   "name": "python",
   "nbconvert_exporter": "python",
   "pygments_lexer": "ipython3",
   "version": "3.13.3"
  }
 },
 "nbformat": 4,
 "nbformat_minor": 5
}
