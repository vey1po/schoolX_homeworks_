{
 "cells": [
  {
   "cell_type": "code",
   "execution_count": 3,
   "id": "c729b325",
   "metadata": {},
   "outputs": [
    {
     "name": "stdout",
     "output_type": "stream",
     "text": [
      "[1]\n",
      "[1, 1]\n",
      "[1, 2, 1]\n",
      "[1, 3, 3, 1]\n",
      "[1, 4, 6, 4, 1]\n"
     ]
    }
   ],
   "source": [
    "def PascalTriangle(rows):\n",
    "    row = [1]\n",
    "    for i in range(rows):\n",
    "        print(row)\n",
    "        row = [sum(x) for x in zip([0]+row, row+[0])]  # zip (., .) пара чисел, sum(x) сумма пар \n",
    "        \n",
    "PascalTriangle(5)"
   ]
  }
 ],
 "metadata": {
  "kernelspec": {
   "display_name": ".venv",
   "language": "python",
   "name": "python3"
  },
  "language_info": {
   "codemirror_mode": {
    "name": "ipython",
    "version": 3
   },
   "file_extension": ".py",
   "mimetype": "text/x-python",
   "name": "python",
   "nbconvert_exporter": "python",
   "pygments_lexer": "ipython3",
   "version": "3.13.3"
  }
 },
 "nbformat": 4,
 "nbformat_minor": 5
}
