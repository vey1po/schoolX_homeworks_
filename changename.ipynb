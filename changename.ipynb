{
 "cells": [
  {
   "cell_type": "code",
   "execution_count": 17,
   "id": "8f13c6a2",
   "metadata": {},
   "outputs": [],
   "source": [
    "from rich import print as rich_print"
   ]
  },
  {
   "cell_type": "code",
   "execution_count": 21,
   "id": "9b55978a",
   "metadata": {},
   "outputs": [
    {
     "data": {
      "text/html": [
       "<pre style=\"white-space:pre;overflow-x:auto;line-height:normal;font-family:Menlo,'DejaVu Sans Mono',consolas,'Courier New',monospace\">Привет <span style=\"color: #800000; text-decoration-color: #800000\">аРтЁм</span>\n",
       "</pre>\n"
      ],
      "text/plain": [
       "Привет \u001b[31mаРтЁм\u001b[0m\n"
      ]
     },
     "metadata": {},
     "output_type": "display_data"
    }
   ],
   "source": [
    "name = input(\"Введите ваше имя: \")\n",
    "\n",
    "def change_name(name):\n",
    "    resu = \"\"\n",
    "    for i in range(len(name)):\n",
    "        if i % 2 == 1:  \n",
    "            resu += name[i].upper()\n",
    "        else:\n",
    "            resu += name[i].lower()\n",
    "    return resu\n",
    "\n",
    "def greet(name):\n",
    "    rich_print(f\"Привет [red]{name}[/red]\")\n",
    "\n",
    "changed = change_name(name)\n",
    "greet(changed)"
   ]
  }
 ],
 "metadata": {
  "kernelspec": {
   "display_name": ".venv",
   "language": "python",
   "name": "python3"
  },
  "language_info": {
   "codemirror_mode": {
    "name": "ipython",
    "version": 3
   },
   "file_extension": ".py",
   "mimetype": "text/x-python",
   "name": "python",
   "nbconvert_exporter": "python",
   "pygments_lexer": "ipython3",
   "version": "3.13.3"
  }
 },
 "nbformat": 4,
 "nbformat_minor": 5
}
